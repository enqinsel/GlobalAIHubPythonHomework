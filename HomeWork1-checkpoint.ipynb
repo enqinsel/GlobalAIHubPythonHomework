{
 "cells": [
  {
   "cell_type": "code",
   "execution_count": 2,
   "metadata": {},
   "outputs": [
    {
     "name": "stdout",
     "output_type": "stream",
     "text": [
      "Please enter the first number:5\n",
      "Please enter the second number:10.2\n",
      "Please enter the third number:25\n",
      "Please enter the fourth number:654564\n",
      "Please enter the fifth number:0\n",
      "Please enter a word:ANKARA\n",
      "First Number: 5.0 Second Number: 10.2 Third Number: 25.0 Fourth Number:654564.0 Fifth Number:0.0 Word: ANKARA\n",
      "Type of values below: \n",
      "<class 'float'>\n",
      "<class 'float'>\n",
      "<class 'float'>\n",
      "<class 'float'>\n",
      "<class 'float'>\n",
      "<class 'str'>\n"
     ]
    }
   ],
   "source": [
    "#Engin İnsel - Homework 1 - @enqinsel@gmail.com\n",
    "\n",
    "'''\n",
    "QUESTİON:\n",
    "\n",
    "Homework-1\n",
    "Take 5 values from the user and write a program that prints the values you get on the screen. Print the type of values you received in this program on the screen.\n",
    "When using print functions. do not forget to use f-string and format usage in your program.\n",
    "\n",
    "\n",
    "'''\n",
    "\n",
    "a = float(input(\"Please enter the first number:\"))\n",
    "b = float(input(\"Please enter the second number:\"))\n",
    "c = float(input(\"Please enter the third number:\"))\n",
    "d = float(input(\"Please enter the fourth number:\"))\n",
    "e = float(input(\"Please enter the fifth number:\"))\n",
    "i = input(\"Please enter a word:\")\n",
    "\n",
    "s = i\n",
    "x = a\n",
    "y = b\n",
    "z = c\n",
    "q = d\n",
    "w = e\n",
    "\n",
    "print(f'First Number: {x} Second Number: {y} Third Number: {z} Fourth Number:{q} Fifth Number:{w} Word: {s}')\n",
    "\n",
    "print(\"Type of values below: \")\n",
    "print(type(x))\n",
    "print(type(y))\n",
    "print(type(z))\n",
    "print(type(q))\n",
    "print(type(w))\n",
    "print(type(s))\n"
   ]
  },
  {
   "cell_type": "code",
   "execution_count": null,
   "metadata": {},
   "outputs": [],
   "source": []
  }
 ],
 "metadata": {
  "kernelspec": {
   "display_name": "Python 3",
   "language": "python",
   "name": "python3"
  },
  "language_info": {
   "codemirror_mode": {
    "name": "ipython",
    "version": 3
   },
   "file_extension": ".py",
   "mimetype": "text/x-python",
   "name": "python",
   "nbconvert_exporter": "python",
   "pygments_lexer": "ipython3",
   "version": "3.8.5"
  }
 },
 "nbformat": 4,
 "nbformat_minor": 4
}
