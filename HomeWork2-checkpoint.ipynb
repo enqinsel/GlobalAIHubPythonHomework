{
 "cells": [
  {
   "cell_type": "code",
   "execution_count": 84,
   "metadata": {
    "scrolled": true
   },
   "outputs": [
    {
     "name": "stdout",
     "output_type": "stream",
     "text": [
      "Please enter your name: ENGİN\n",
      "Please enter your lastname: İNSEL\n",
      "Please enter your age: 23\n",
      "Please enter birth year: 1997\n",
      "Your Age: 23\n",
      "You can go out to the street\n"
     ]
    }
   ],
   "source": [
    "''' \n",
    "\n",
    "QUESTİONS:\n",
    "\n",
    "User Identification Program\n",
    "The user will be defined. Get the data of this user by input method. Obtain information from user as follow:\n",
    "-First Name\n",
    "-Last name\n",
    "-Age\n",
    "-Date of birth (just year)\n",
    "Pass the user's information to the list and displays the screen using the for loop. Print all user information on the screen.\n",
    "\n",
    "If he is over 18, print \"You can go out to the street.\" on the screen.\n",
    "If he is under 18, print \"You can't go out because it's too dangerous\" on the screen.\n",
    "\n",
    "\n",
    "'''\n",
    "\n",
    "#Engin İNSEL - HomeWork 2 - @enqinsel@gmail.com\n",
    "\n",
    "\n",
    "\n",
    "a = input(\"Please enter your name: \")\n",
    "s = input(\"Please enter your lastname: \")\n",
    "y = int(input(\"Please enter your age: \"))\n",
    "d = int(input(\"Please enter birth year: \"))\n",
    "\n",
    "#c = [ a , s , y , d ]    \n",
    "\n",
    "c = [ y ]   \n",
    "    \n",
    "for i in c:\n",
    "    #print(i)\n",
    "    \n",
    "    print(\"Your Age:\",i) #Sadece yaşını göstererek amacımı belli etmek istedim.\n",
    "    \n",
    "if y>=18:\n",
    "    print(\"You can go out to the street\")\n",
    "else:\n",
    "    print(\"You can't go out because it's too dangerous\")\n",
    "   \n",
    "\n"
   ]
  },
  {
   "cell_type": "code",
   "execution_count": null,
   "metadata": {},
   "outputs": [],
   "source": []
  }
 ],
 "metadata": {
  "kernelspec": {
   "display_name": "Python 3",
   "language": "python",
   "name": "python3"
  },
  "language_info": {
   "codemirror_mode": {
    "name": "ipython",
    "version": 3
   },
   "file_extension": ".py",
   "mimetype": "text/x-python",
   "name": "python",
   "nbconvert_exporter": "python",
   "pygments_lexer": "ipython3",
   "version": "3.8.5"
  }
 },
 "nbformat": 4,
 "nbformat_minor": 4
}
